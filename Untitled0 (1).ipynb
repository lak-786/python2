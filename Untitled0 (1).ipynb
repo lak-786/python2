{
  "nbformat": 4,
  "nbformat_minor": 0,
  "metadata": {
    "colab": {
      "provenance": []
    },
    "kernelspec": {
      "name": "python3",
      "display_name": "Python 3"
    },
    "language_info": {
      "name": "python"
    }
  },
  "cells": [
    {
      "cell_type": "code",
      "execution_count": null,
      "metadata": {
        "colab": {
          "base_uri": "https://localhost:8080/"
        },
        "id": "0Prgtq6bXuMV",
        "outputId": "173c2b59-3756-4e64-aa43-430c1fa5f615"
      },
      "outputs": [
        {
          "output_type": "stream",
          "name": "stdout",
          "text": [
            "['red', 'blue', 'yellow', 1, 2, 3]\n"
          ]
        }
      ],
      "source": [
        "A=[\"red\",\"blue\",\"yellow\",1,2,3]\n",
        "print(A)"
      ]
    },
    {
      "cell_type": "code",
      "source": [
        "s=[\"messi\",\"ronaldo\",\"neymer\",10,7,11]\n",
        "print(\"s\")"
      ],
      "metadata": {
        "colab": {
          "base_uri": "https://localhost:8080/"
        },
        "id": "EjY90d6CbIuf",
        "outputId": "4764d43f-90fb-4188-f4c0-8665de7478bc"
      },
      "execution_count": null,
      "outputs": [
        {
          "output_type": "stream",
          "name": "stdout",
          "text": [
            "s\n"
          ]
        }
      ]
    },
    {
      "cell_type": "code",
      "source": [
        "print(len(A))"
      ],
      "metadata": {
        "colab": {
          "base_uri": "https://localhost:8080/"
        },
        "id": "Ay-241hNcV6i",
        "outputId": "25ca30e0-31f9-4fb1-f0bc-8ef733265f92"
      },
      "execution_count": null,
      "outputs": [
        {
          "output_type": "stream",
          "name": "stdout",
          "text": [
            "6\n"
          ]
        }
      ]
    },
    {
      "cell_type": "code",
      "source": [
        "print(A[-2])"
      ],
      "metadata": {
        "colab": {
          "base_uri": "https://localhost:8080/"
        },
        "id": "zEQWGpZHdo2g",
        "outputId": "605612b6-11c1-400f-a1dc-d81a0ef26415"
      },
      "execution_count": null,
      "outputs": [
        {
          "output_type": "stream",
          "name": "stdout",
          "text": [
            "2\n"
          ]
        }
      ]
    },
    {
      "cell_type": "code",
      "source": [
        "a=[1,2,3]\n",
        "b=[4,5,6]\n",
        "sum=a+b\n",
        "print(sum)"
      ],
      "metadata": {
        "colab": {
          "base_uri": "https://localhost:8080/"
        },
        "id": "wUlvoBWMeSXC",
        "outputId": "4d7d30f7-582f-4d9f-f6c0-f362a52a0778"
      },
      "execution_count": null,
      "outputs": [
        {
          "output_type": "stream",
          "name": "stdout",
          "text": [
            "[1, 2, 3, 4, 5, 6]\n"
          ]
        }
      ]
    },
    {
      "cell_type": "code",
      "source": [
        "#to update\n",
        "a=[1,2,3]\n",
        "a[2]=6\n",
        "print(a)"
      ],
      "metadata": {
        "colab": {
          "base_uri": "https://localhost:8080/"
        },
        "id": "8WZ7Qv_dpUMr",
        "outputId": "1c59d87c-4135-4c16-f689-bae3e410fb30"
      },
      "execution_count": null,
      "outputs": [
        {
          "output_type": "stream",
          "name": "stdout",
          "text": [
            "[1, 2, 6]\n"
          ]
        }
      ]
    },
    {
      "cell_type": "code",
      "source": [
        "a.append(\"banana\")\n",
        "print(a)"
      ],
      "metadata": {
        "colab": {
          "base_uri": "https://localhost:8080/"
        },
        "id": "takpAgYLrC7m",
        "outputId": "febb7e43-32ea-4188-a7a7-8856942da5b5"
      },
      "execution_count": null,
      "outputs": [
        {
          "output_type": "stream",
          "name": "stdout",
          "text": [
            "[1, 2, 6, 'banana']\n"
          ]
        }
      ]
    },
    {
      "cell_type": "code",
      "source": [
        "a.append(10)\n",
        "print(a)"
      ],
      "metadata": {
        "colab": {
          "base_uri": "https://localhost:8080/"
        },
        "id": "3s2z53xcroBL",
        "outputId": "f3123046-02ef-462b-eb00-adba0e807820"
      },
      "execution_count": null,
      "outputs": [
        {
          "output_type": "stream",
          "name": "stdout",
          "text": [
            "[1, 2, 6, 'banana', 10]\n"
          ]
        }
      ]
    },
    {
      "cell_type": "code",
      "source": [
        "a.insert(1,55)\n",
        "print(a)"
      ],
      "metadata": {
        "colab": {
          "base_uri": "https://localhost:8080/"
        },
        "id": "5jNkzNKdryRW",
        "outputId": "d1bc4d37-c261-4eae-8f53-883711788ec3"
      },
      "execution_count": null,
      "outputs": [
        {
          "output_type": "stream",
          "name": "stdout",
          "text": [
            "[33, 55, 1, 2, 6, 'banana', 10]\n"
          ]
        }
      ]
    },
    {
      "cell_type": "code",
      "source": [
        "a[0]=44\n",
        "print(a)"
      ],
      "metadata": {
        "colab": {
          "base_uri": "https://localhost:8080/"
        },
        "id": "8EME-icatEdq",
        "outputId": "8e0abda5-3585-432b-a6b3-f47574083bf3"
      },
      "execution_count": null,
      "outputs": [
        {
          "output_type": "stream",
          "name": "stdout",
          "text": [
            "[44, 55, 1, 2, 6, 'banana', 10]\n"
          ]
        }
      ]
    },
    {
      "cell_type": "code",
      "source": [
        "#extend\n",
        "y=[9,8,7]\n",
        "new_elements=[\"a\",\"b\",\"c\"]\n",
        "y.extend(new_elements)\n",
        "print(y)"
      ],
      "metadata": {
        "colab": {
          "base_uri": "https://localhost:8080/"
        },
        "id": "kQnHCRThttdQ",
        "outputId": "6d202065-e601-4853-dedc-5c166c2af7ce"
      },
      "execution_count": null,
      "outputs": [
        {
          "output_type": "stream",
          "name": "stdout",
          "text": [
            "[9, 8, 7, 'a', 'b', 'c']\n"
          ]
        }
      ]
    },
    {
      "cell_type": "code",
      "source": [
        "#remove\n",
        "y.remove(7)\n",
        "print(y)"
      ],
      "metadata": {
        "colab": {
          "base_uri": "https://localhost:8080/"
        },
        "id": "9FxY-gkJvwbd",
        "outputId": "5e58c4f6-bb66-4754-bbbe-2d682e70a8eb"
      },
      "execution_count": null,
      "outputs": [
        {
          "output_type": "stream",
          "name": "stdout",
          "text": [
            "[9, 8, 'a', 'b', 'c']\n"
          ]
        }
      ]
    },
    {
      "cell_type": "code",
      "source": [
        "#clear all data\n",
        "y.clear()\n",
        "print(y)"
      ],
      "metadata": {
        "colab": {
          "base_uri": "https://localhost:8080/"
        },
        "id": "zguPWkSBweo9",
        "outputId": "6c335729-8b6e-4e17-8872-5e34583f17f7"
      },
      "execution_count": null,
      "outputs": [
        {
          "output_type": "stream",
          "name": "stdout",
          "text": [
            "[]\n"
          ]
        }
      ]
    },
    {
      "cell_type": "code",
      "source": [
        "#delete\n",
        "del y"
      ],
      "metadata": {
        "colab": {
          "base_uri": "https://localhost:8080/",
          "height": 159
        },
        "id": "xQnKuEiQw55A",
        "outputId": "84065cb4-96e5-472f-b340-8452acd3b17d"
      },
      "execution_count": null,
      "outputs": [
        {
          "output_type": "error",
          "ename": "NameError",
          "evalue": "name 'y' is not defined",
          "traceback": [
            "\u001b[0;31m---------------------------------------------------------------------------\u001b[0m",
            "\u001b[0;31mNameError\u001b[0m                                 Traceback (most recent call last)",
            "\u001b[0;32m<ipython-input-27-ba3c4fae2710>\u001b[0m in \u001b[0;36m<cell line: 2>\u001b[0;34m()\u001b[0m\n\u001b[1;32m      1\u001b[0m \u001b[0;31m#delete\u001b[0m\u001b[0;34m\u001b[0m\u001b[0;34m\u001b[0m\u001b[0m\n\u001b[0;32m----> 2\u001b[0;31m \u001b[0;32mdel\u001b[0m \u001b[0my\u001b[0m\u001b[0;34m\u001b[0m\u001b[0;34m\u001b[0m\u001b[0m\n\u001b[0m",
            "\u001b[0;31mNameError\u001b[0m: name 'y' is not defined"
          ]
        }
      ]
    },
    {
      "cell_type": "code",
      "source": [
        "del a"
      ],
      "metadata": {
        "id": "AAT7rzPvxTRO"
      },
      "execution_count": null,
      "outputs": []
    },
    {
      "cell_type": "code",
      "source": [
        "#tuple method\n",
        "B=(\"red\",\"green\",\"yellow\")\n",
        "print(B)"
      ],
      "metadata": {
        "colab": {
          "base_uri": "https://localhost:8080/"
        },
        "id": "aMGjIiG6xVS7",
        "outputId": "bfe2c4ed-5605-4d67-d679-33a53c547101"
      },
      "execution_count": null,
      "outputs": [
        {
          "output_type": "stream",
          "name": "stdout",
          "text": [
            "('red', 'green', 'yellow')\n"
          ]
        }
      ]
    },
    {
      "cell_type": "code",
      "source": [
        "print(type(B))"
      ],
      "metadata": {
        "colab": {
          "base_uri": "https://localhost:8080/"
        },
        "id": "OOuKam2Yyf81",
        "outputId": "603afe2c-ea16-43fb-d1c5-598784253e17"
      },
      "execution_count": null,
      "outputs": [
        {
          "output_type": "stream",
          "name": "stdout",
          "text": [
            "<class 'tuple'>\n"
          ]
        }
      ]
    },
    {
      "cell_type": "code",
      "source": [
        "print(type(A))"
      ],
      "metadata": {
        "colab": {
          "base_uri": "https://localhost:8080/"
        },
        "id": "ZN3ItbjKytr3",
        "outputId": "b20ee19d-df41-4a65-b4b4-4e157c1dfefa"
      },
      "execution_count": null,
      "outputs": [
        {
          "output_type": "stream",
          "name": "stdout",
          "text": [
            "<class 'list'>\n"
          ]
        }
      ]
    },
    {
      "cell_type": "code",
      "source": [
        "print(len(B))"
      ],
      "metadata": {
        "colab": {
          "base_uri": "https://localhost:8080/"
        },
        "id": "TFdRNSwSzDRO",
        "outputId": "121820df-52fb-49e8-961f-4b1d1153c8df"
      },
      "execution_count": null,
      "outputs": [
        {
          "output_type": "stream",
          "name": "stdout",
          "text": [
            "3\n"
          ]
        }
      ]
    },
    {
      "cell_type": "code",
      "source": [
        "A=(1,2,3,)\n",
        "C=(4,5,6)\n",
        "sum=A+C\n",
        "print(sum)"
      ],
      "metadata": {
        "colab": {
          "base_uri": "https://localhost:8080/"
        },
        "id": "qDMMii54zNgB",
        "outputId": "9f146427-37e0-4349-b73e-e3cb7c8f3c34"
      },
      "execution_count": null,
      "outputs": [
        {
          "output_type": "stream",
          "name": "stdout",
          "text": [
            "(1, 2, 3, 4, 5, 6)\n"
          ]
        }
      ]
    },
    {
      "cell_type": "code",
      "source": [
        "A.append(0)\n",
        "print(A)"
      ],
      "metadata": {
        "colab": {
          "base_uri": "https://localhost:8080/",
          "height": 159
        },
        "id": "8eNYkqGtzn-6",
        "outputId": "91206af7-d3c4-4b88-dbd8-61c1b7ef1094"
      },
      "execution_count": null,
      "outputs": [
        {
          "output_type": "error",
          "ename": "AttributeError",
          "evalue": "'tuple' object has no attribute 'append'",
          "traceback": [
            "\u001b[0;31m---------------------------------------------------------------------------\u001b[0m",
            "\u001b[0;31mAttributeError\u001b[0m                            Traceback (most recent call last)",
            "\u001b[0;32m<ipython-input-35-094a0a6778c0>\u001b[0m in \u001b[0;36m<cell line: 1>\u001b[0;34m()\u001b[0m\n\u001b[0;32m----> 1\u001b[0;31m \u001b[0mA\u001b[0m\u001b[0;34m.\u001b[0m\u001b[0mappend\u001b[0m\u001b[0;34m(\u001b[0m\u001b[0;36m0\u001b[0m\u001b[0;34m)\u001b[0m\u001b[0;34m\u001b[0m\u001b[0;34m\u001b[0m\u001b[0m\n\u001b[0m\u001b[1;32m      2\u001b[0m \u001b[0mprint\u001b[0m\u001b[0;34m(\u001b[0m\u001b[0mA\u001b[0m\u001b[0;34m)\u001b[0m\u001b[0;34m\u001b[0m\u001b[0;34m\u001b[0m\u001b[0m\n",
            "\u001b[0;31mAttributeError\u001b[0m: 'tuple' object has no attribute 'append'"
          ]
        }
      ]
    },
    {
      "cell_type": "code",
      "source": [
        "A={\"kadmat\",\"kiltan\",\"agatti\"}\n",
        "print(A)"
      ],
      "metadata": {
        "colab": {
          "base_uri": "https://localhost:8080/"
        },
        "id": "LDsEJ6Zz0XCD",
        "outputId": "59492178-8dc9-47d0-c1d8-171760bebf5d"
      },
      "execution_count": null,
      "outputs": [
        {
          "output_type": "stream",
          "name": "stdout",
          "text": [
            "{'kadmat', 'agatti', 'kiltan'}\n"
          ]
        }
      ]
    },
    {
      "cell_type": "code",
      "source": [
        "print(A[0])"
      ],
      "metadata": {
        "colab": {
          "base_uri": "https://localhost:8080/",
          "height": 141
        },
        "id": "oxQRaftm1wLT",
        "outputId": "deba4f46-219e-4780-d568-c3a26e60f31d"
      },
      "execution_count": null,
      "outputs": [
        {
          "output_type": "error",
          "ename": "TypeError",
          "evalue": "'set' object is not subscriptable",
          "traceback": [
            "\u001b[0;31m---------------------------------------------------------------------------\u001b[0m",
            "\u001b[0;31mTypeError\u001b[0m                                 Traceback (most recent call last)",
            "\u001b[0;32m<ipython-input-40-332f5adb1257>\u001b[0m in \u001b[0;36m<cell line: 1>\u001b[0;34m()\u001b[0m\n\u001b[0;32m----> 1\u001b[0;31m \u001b[0mprint\u001b[0m\u001b[0;34m(\u001b[0m\u001b[0mA\u001b[0m\u001b[0;34m[\u001b[0m\u001b[0;36m0\u001b[0m\u001b[0;34m]\u001b[0m\u001b[0;34m)\u001b[0m\u001b[0;34m\u001b[0m\u001b[0;34m\u001b[0m\u001b[0m\n\u001b[0m",
            "\u001b[0;31mTypeError\u001b[0m: 'set' object is not subscriptable"
          ]
        }
      ]
    },
    {
      "cell_type": "code",
      "source": [
        "print(\"kadmat\" in A)"
      ],
      "metadata": {
        "colab": {
          "base_uri": "https://localhost:8080/"
        },
        "id": "spLr83TH3qre",
        "outputId": "37122ec4-1349-485c-dadd-d2c117412b3d"
      },
      "execution_count": null,
      "outputs": [
        {
          "output_type": "stream",
          "name": "stdout",
          "text": [
            "True\n"
          ]
        }
      ]
    },
    {
      "cell_type": "code",
      "source": [
        "print(\"bitira\" in A)"
      ],
      "metadata": {
        "colab": {
          "base_uri": "https://localhost:8080/"
        },
        "id": "hCCFEV5s4M5h",
        "outputId": "f412db03-c095-4df0-eae2-57d49a704d06"
      },
      "execution_count": null,
      "outputs": [
        {
          "output_type": "stream",
          "name": "stdout",
          "text": [
            "False\n"
          ]
        }
      ]
    },
    {
      "cell_type": "code",
      "source": [
        "A.add(\"bitira\")\n",
        "print(A)"
      ],
      "metadata": {
        "colab": {
          "base_uri": "https://localhost:8080/"
        },
        "id": "Mvr5Ilc34cW1",
        "outputId": "d6442760-0395-4332-9a7b-3fbdeb8f3827"
      },
      "execution_count": null,
      "outputs": [
        {
          "output_type": "stream",
          "name": "stdout",
          "text": [
            "{'kadmat', 'agatti', 'bitira', 'kiltan'}\n"
          ]
        }
      ]
    },
    {
      "cell_type": "code",
      "source": [
        "A.update([\"amini\",\"leo\"])\n",
        "print(A)"
      ],
      "metadata": {
        "colab": {
          "base_uri": "https://localhost:8080/"
        },
        "id": "AZGLZFd84oNQ",
        "outputId": "9835157c-f983-4f0f-e9ae-16bed81c97f8"
      },
      "execution_count": null,
      "outputs": [
        {
          "output_type": "stream",
          "name": "stdout",
          "text": [
            "{'kadmat', 'agatti', 'leo', 'amini', 'bitira', 'kiltan'}\n"
          ]
        }
      ]
    },
    {
      "cell_type": "code",
      "source": [
        "a={\"messi\",\"ramos\",\"carlos\"}\n",
        "print(a)"
      ],
      "metadata": {
        "colab": {
          "base_uri": "https://localhost:8080/"
        },
        "id": "ng0KcUUhIWAS",
        "outputId": "067ae986-9f0c-41a2-ae83-d5875ed9223e"
      },
      "execution_count": null,
      "outputs": [
        {
          "output_type": "stream",
          "name": "stdout",
          "text": [
            "{'messi', 'ramos', 'carlos'}\n"
          ]
        }
      ]
    },
    {
      "cell_type": "code",
      "source": [
        "a.update([\"ronaldo\",\"xavi\"])\n",
        "print(a)"
      ],
      "metadata": {
        "colab": {
          "base_uri": "https://localhost:8080/"
        },
        "id": "s-genUS2JSbP",
        "outputId": "e1e4072f-20d3-4085-cfd7-18ab73109b3e"
      },
      "execution_count": null,
      "outputs": [
        {
          "output_type": "stream",
          "name": "stdout",
          "text": [
            "{'xavi', 'messi', 'ramos', 'ronaldo', 'carlos'}\n"
          ]
        }
      ]
    },
    {
      "cell_type": "code",
      "source": [
        "a=5\n",
        "b=5\n",
        "sum=a+b\n",
        "print(sum)"
      ],
      "metadata": {
        "colab": {
          "base_uri": "https://localhost:8080/"
        },
        "id": "gOReVqilNZxC",
        "outputId": "65630bb5-5044-488f-d55e-9b59f78d3b2c"
      },
      "execution_count": null,
      "outputs": [
        {
          "output_type": "stream",
          "name": "stdout",
          "text": [
            "10\n"
          ]
        }
      ]
    },
    {
      "cell_type": "code",
      "source": [
        "a=int(input(\"enter first num. :\"))\n",
        "b=int(input(\"enter second num. :\"))\n",
        "addition=(a+b)\n",
        "print(\"addition is :\",addition)"
      ],
      "metadata": {
        "colab": {
          "base_uri": "https://localhost:8080/"
        },
        "id": "g8Us1ZULOa0u",
        "outputId": "17080da4-f9ef-4aff-dd9f-77b13b35e7f3"
      },
      "execution_count": null,
      "outputs": [
        {
          "output_type": "stream",
          "name": "stdout",
          "text": [
            "enter first num. :4\n",
            "enter second num. :6\n",
            "addition is : 10\n"
          ]
        }
      ]
    },
    {
      "cell_type": "code",
      "source": [
        "a=int(input(\"enter first num. :\"))\n",
        "b=int(input(\"enter second num. :\"))\n",
        "subtraction=(a-b)\n",
        "print(\"subtraction is :\",subtraction)"
      ],
      "metadata": {
        "colab": {
          "base_uri": "https://localhost:8080/"
        },
        "id": "8RvvUfhPScyD",
        "outputId": "ad93b4ff-2589-4dc4-a666-88768f1c14b6"
      },
      "execution_count": null,
      "outputs": [
        {
          "output_type": "stream",
          "name": "stdout",
          "text": [
            "enter first num. :3\n",
            "enter second num. :2\n",
            "subtraction is : 1\n"
          ]
        }
      ]
    },
    {
      "cell_type": "code",
      "source": [
        "a=input(\"enter username. :\")\n",
        "print(\"Hy \",a)"
      ],
      "metadata": {
        "colab": {
          "base_uri": "https://localhost:8080/"
        },
        "id": "-f1MpmlRUOok",
        "outputId": "252d5bca-b0dd-4043-ba27-5a03f1160be1"
      },
      "execution_count": null,
      "outputs": [
        {
          "output_type": "stream",
          "name": "stdout",
          "text": [
            "enter username. :riyaz\n",
            "Hy  riyaz\n"
          ]
        }
      ]
    },
    {
      "cell_type": "code",
      "source": [
        "a={\"kochi\",\"kozhikode\",\"kollam\"}\n",
        "print(a)"
      ],
      "metadata": {
        "colab": {
          "base_uri": "https://localhost:8080/"
        },
        "id": "634gOB-fOyXf",
        "outputId": "7d5971b3-6267-4b29-9a29-1d2676edd78d"
      },
      "execution_count": null,
      "outputs": [
        {
          "output_type": "stream",
          "name": "stdout",
          "text": [
            "{'kochi', 'kollam', 'kozhikode'}\n"
          ]
        }
      ]
    },
    {
      "cell_type": "code",
      "source": [
        "a.remove(\"kochi\")\n",
        "print(a)"
      ],
      "metadata": {
        "colab": {
          "base_uri": "https://localhost:8080/"
        },
        "id": "TsEce67vPObq",
        "outputId": "2d5a5b1c-57db-49de-bdcd-4c79d6c68b7d"
      },
      "execution_count": null,
      "outputs": [
        {
          "output_type": "stream",
          "name": "stdout",
          "text": [
            "{'kollam', 'kozhikode'}\n"
          ]
        }
      ]
    },
    {
      "cell_type": "code",
      "source": [
        "a.discard(\"kollam\")\n",
        "print(a)"
      ],
      "metadata": {
        "colab": {
          "base_uri": "https://localhost:8080/"
        },
        "id": "t1ZNv5W4PriQ",
        "outputId": "95dd2743-8a21-439d-a996-621347c43099"
      },
      "execution_count": null,
      "outputs": [
        {
          "output_type": "stream",
          "name": "stdout",
          "text": [
            "{'kozhikode'}\n"
          ]
        }
      ]
    },
    {
      "cell_type": "code",
      "source": [
        "a.remove(\"kiltan\")\n",
        "print(a)"
      ],
      "metadata": {
        "colab": {
          "base_uri": "https://localhost:8080/",
          "height": 159
        },
        "id": "jtHQkt0UP7NP",
        "outputId": "0b0e9335-23d6-4d70-bba9-8d8055165c9e"
      },
      "execution_count": null,
      "outputs": [
        {
          "output_type": "error",
          "ename": "KeyError",
          "evalue": "'kiltan'",
          "traceback": [
            "\u001b[0;31m---------------------------------------------------------------------------\u001b[0m",
            "\u001b[0;31mKeyError\u001b[0m                                  Traceback (most recent call last)",
            "\u001b[0;32m<ipython-input-4-9486f5a6dee3>\u001b[0m in \u001b[0;36m<cell line: 1>\u001b[0;34m()\u001b[0m\n\u001b[0;32m----> 1\u001b[0;31m \u001b[0ma\u001b[0m\u001b[0;34m.\u001b[0m\u001b[0mremove\u001b[0m\u001b[0;34m(\u001b[0m\u001b[0;34m\"kiltan\"\u001b[0m\u001b[0;34m)\u001b[0m\u001b[0;34m\u001b[0m\u001b[0;34m\u001b[0m\u001b[0m\n\u001b[0m\u001b[1;32m      2\u001b[0m \u001b[0mprint\u001b[0m\u001b[0;34m(\u001b[0m\u001b[0ma\u001b[0m\u001b[0;34m)\u001b[0m\u001b[0;34m\u001b[0m\u001b[0;34m\u001b[0m\u001b[0m\n",
            "\u001b[0;31mKeyError\u001b[0m: 'kiltan'"
          ]
        }
      ]
    },
    {
      "cell_type": "code",
      "source": [
        "a.discard(\"kadmat\")\n",
        "print(a)"
      ],
      "metadata": {
        "colab": {
          "base_uri": "https://localhost:8080/"
        },
        "id": "BiEg6MiIQHNK",
        "outputId": "e9f32dfc-ea33-4f1a-e241-27cb53b72dce"
      },
      "execution_count": null,
      "outputs": [
        {
          "output_type": "stream",
          "name": "stdout",
          "text": [
            "{'kozhikode'}\n"
          ]
        }
      ]
    },
    {
      "cell_type": "code",
      "source": [
        "a={1,2,3,4}\n",
        "b={5,6,3,8}\n",
        "c=a.union(b)\n",
        "print(c)"
      ],
      "metadata": {
        "colab": {
          "base_uri": "https://localhost:8080/"
        },
        "id": "XyAJThNYQe6b",
        "outputId": "bb1b76e6-bcbe-4ce7-8510-3e969f151a22"
      },
      "execution_count": null,
      "outputs": [
        {
          "output_type": "stream",
          "name": "stdout",
          "text": [
            "{1, 2, 3, 4, 5, 6, 8}\n"
          ]
        }
      ]
    },
    {
      "cell_type": "code",
      "source": [
        "h={1,2,3,4,5}\n",
        "g={6,5,8,3,4}\n",
        "j=g-h\n",
        "print(j)"
      ],
      "metadata": {
        "colab": {
          "base_uri": "https://localhost:8080/"
        },
        "id": "uyJwyH0FRm9z",
        "outputId": "6eea64ae-56aa-4393-8c33-70e88753f3e5"
      },
      "execution_count": null,
      "outputs": [
        {
          "output_type": "stream",
          "name": "stdout",
          "text": [
            "{8, 9, 6}\n"
          ]
        }
      ]
    },
    {
      "cell_type": "code",
      "source": [
        "d=h.difference(g)\n",
        "print(d)"
      ],
      "metadata": {
        "colab": {
          "base_uri": "https://localhost:8080/"
        },
        "id": "3aVvWvbITK2u",
        "outputId": "924bed1b-3785-4c53-8bfc-53dc64fdf30e"
      },
      "execution_count": null,
      "outputs": [
        {
          "output_type": "stream",
          "name": "stdout",
          "text": [
            "{1, 2, 3}\n"
          ]
        }
      ]
    },
    {
      "cell_type": "code",
      "source": [
        "j=g&h\n",
        "print(j)"
      ],
      "metadata": {
        "colab": {
          "base_uri": "https://localhost:8080/"
        },
        "id": "CGF8ESLOUX6x",
        "outputId": "32b81eda-967e-46d4-852b-be67cf9fe66a"
      },
      "execution_count": null,
      "outputs": [
        {
          "output_type": "stream",
          "name": "stdout",
          "text": [
            "{4, 5}\n"
          ]
        }
      ]
    },
    {
      "cell_type": "code",
      "source": [
        "i=h.intersection(g)\n",
        "print(i)"
      ],
      "metadata": {
        "colab": {
          "base_uri": "https://localhost:8080/"
        },
        "id": "rrd7_m_UUXzX",
        "outputId": "9a56a6b4-601b-499c-f8f8-a401ea781b80"
      },
      "execution_count": null,
      "outputs": [
        {
          "output_type": "stream",
          "name": "stdout",
          "text": [
            "{4, 5}\n"
          ]
        }
      ]
    },
    {
      "cell_type": "code",
      "source": [
        "a.clear()\n",
        "print(a)"
      ],
      "metadata": {
        "colab": {
          "base_uri": "https://localhost:8080/"
        },
        "id": "kdHb9nE4VXzd",
        "outputId": "0613b846-4c22-4775-a72a-5a6567a675e7"
      },
      "execution_count": null,
      "outputs": [
        {
          "output_type": "stream",
          "name": "stdout",
          "text": [
            "set()\n"
          ]
        }
      ]
    },
    {
      "cell_type": "code",
      "source": [
        "del a\n",
        "print(a)"
      ],
      "metadata": {
        "colab": {
          "base_uri": "https://localhost:8080/",
          "height": 159
        },
        "id": "2ZJThjvbVvtV",
        "outputId": "d9558b72-76b3-4917-cb51-3c3bbaa381d6"
      },
      "execution_count": null,
      "outputs": [
        {
          "output_type": "error",
          "ename": "NameError",
          "evalue": "name 'a' is not defined",
          "traceback": [
            "\u001b[0;31m---------------------------------------------------------------------------\u001b[0m",
            "\u001b[0;31mNameError\u001b[0m                                 Traceback (most recent call last)",
            "\u001b[0;32m<ipython-input-23-c342333e421e>\u001b[0m in \u001b[0;36m<cell line: 1>\u001b[0;34m()\u001b[0m\n\u001b[0;32m----> 1\u001b[0;31m \u001b[0;32mdel\u001b[0m \u001b[0ma\u001b[0m\u001b[0;34m\u001b[0m\u001b[0;34m\u001b[0m\u001b[0m\n\u001b[0m\u001b[1;32m      2\u001b[0m \u001b[0mprint\u001b[0m\u001b[0;34m(\u001b[0m\u001b[0ma\u001b[0m\u001b[0;34m)\u001b[0m\u001b[0;34m\u001b[0m\u001b[0;34m\u001b[0m\u001b[0m\n",
            "\u001b[0;31mNameError\u001b[0m: name 'a' is not defined"
          ]
        }
      ]
    },
    {
      "cell_type": "code",
      "source": [
        "A={\"lagoon\",\"coral\",\"sea\"}\n",
        "B={\"east\",\"west\",\"north\"}\n",
        "A.remove(\"lagoon\")\n",
        "print(A)"
      ],
      "metadata": {
        "colab": {
          "base_uri": "https://localhost:8080/"
        },
        "id": "AMRTiDNDWzZI",
        "outputId": "d89846f9-e97c-4227-ff4b-ffbd54f34a60"
      },
      "execution_count": null,
      "outputs": [
        {
          "output_type": "stream",
          "name": "stdout",
          "text": [
            "{'sea', 'coral'}\n"
          ]
        }
      ]
    },
    {
      "cell_type": "code",
      "source": [
        "A.discard(\"coral\")\n",
        "print(A)"
      ],
      "metadata": {
        "colab": {
          "base_uri": "https://localhost:8080/"
        },
        "id": "6Ru6r7sUX6wp",
        "outputId": "e8835764-6bab-48fd-b6c5-1eb4350a4ccc"
      },
      "execution_count": null,
      "outputs": [
        {
          "output_type": "stream",
          "name": "stdout",
          "text": [
            "{'sea'}\n"
          ]
        }
      ]
    },
    {
      "cell_type": "code",
      "source": [
        "c=A.union(B)\n",
        "print(c)"
      ],
      "metadata": {
        "colab": {
          "base_uri": "https://localhost:8080/"
        },
        "id": "4pRC5VVHYG1C",
        "outputId": "2d7cb5b2-9de9-4ec1-dd02-a0fd3c7443c4"
      },
      "execution_count": null,
      "outputs": [
        {
          "output_type": "stream",
          "name": "stdout",
          "text": [
            "{'east', 'sea', 'west', 'north'}\n"
          ]
        }
      ]
    },
    {
      "cell_type": "code",
      "source": [
        "B.remove(\"east\")\n",
        "print(B)"
      ],
      "metadata": {
        "colab": {
          "base_uri": "https://localhost:8080/"
        },
        "id": "L1dlCwNmYfw4",
        "outputId": "7e68c596-e19c-47e5-a9af-6210f78f1874"
      },
      "execution_count": null,
      "outputs": [
        {
          "output_type": "stream",
          "name": "stdout",
          "text": [
            "{'west', 'north'}\n"
          ]
        }
      ]
    },
    {
      "cell_type": "code",
      "source": [
        "i=A.intersection(B)\n",
        "print(i)"
      ],
      "metadata": {
        "colab": {
          "base_uri": "https://localhost:8080/"
        },
        "id": "zz4xOzwJYxPX",
        "outputId": "061b9439-4f0f-4d50-9d34-dea50829d7f3"
      },
      "execution_count": null,
      "outputs": [
        {
          "output_type": "stream",
          "name": "stdout",
          "text": [
            "set()\n"
          ]
        }
      ]
    },
    {
      "cell_type": "code",
      "source": [
        "mega={\"name\":\"riyas\",\"email\":\"leoriyas30@gamil.com\",\"phone\":846273648}\n",
        "print(mega)"
      ],
      "metadata": {
        "colab": {
          "base_uri": "https://localhost:8080/"
        },
        "id": "RKrEW-0Saew5",
        "outputId": "7149d860-3eb2-4a47-ad2a-d1a5ec241693"
      },
      "execution_count": null,
      "outputs": [
        {
          "output_type": "stream",
          "name": "stdout",
          "text": [
            "{'name': 'riyas', 'email': 'leoriyas30@gamil.com', 'phone': 846273648}\n"
          ]
        }
      ]
    },
    {
      "cell_type": "code",
      "source": [
        "a=mega[\"name\"]\n",
        "print(a)"
      ],
      "metadata": {
        "colab": {
          "base_uri": "https://localhost:8080/"
        },
        "id": "5fQl8c9Ob8FV",
        "outputId": "1fad8b3d-7e04-4283-f38c-81a6bf508fa6"
      },
      "execution_count": null,
      "outputs": [
        {
          "output_type": "stream",
          "name": "stdout",
          "text": [
            "riyas\n"
          ]
        }
      ]
    },
    {
      "cell_type": "code",
      "source": [
        "a=mega.get(\"email\")\n",
        "print(a)"
      ],
      "metadata": {
        "colab": {
          "base_uri": "https://localhost:8080/"
        },
        "id": "uBzWI4nsccCZ",
        "outputId": "b0090a2e-e610-4799-e17b-61995055580e"
      },
      "execution_count": null,
      "outputs": [
        {
          "output_type": "stream",
          "name": "stdout",
          "text": [
            "leoriyas30@gamil.com\n"
          ]
        }
      ]
    },
    {
      "cell_type": "code",
      "source": [
        "mega[\"name\"]=\"ansar\"\n",
        "print(mega)"
      ],
      "metadata": {
        "colab": {
          "base_uri": "https://localhost:8080/"
        },
        "id": "CVa_Em7wc4t7",
        "outputId": "51738725-1937-4353-efde-ae4e87ab3191"
      },
      "execution_count": null,
      "outputs": [
        {
          "output_type": "stream",
          "name": "stdout",
          "text": [
            "{'name': 'ansar', 'email': 'leoriyas30@gamil.com', 'phone': 846273648}\n"
          ]
        }
      ]
    },
    {
      "cell_type": "code",
      "source": [
        "mega[\"age\"]=99\n",
        "print(mega)"
      ],
      "metadata": {
        "colab": {
          "base_uri": "https://localhost:8080/"
        },
        "id": "8AhokSXCd19G",
        "outputId": "562ef9cb-062a-4ba1-a53a-27c58acc5ea6"
      },
      "execution_count": null,
      "outputs": [
        {
          "output_type": "stream",
          "name": "stdout",
          "text": [
            "{'name': 'ansar', 'email': 'leoriyas30@gamil.com', 'phone': 846273648, 'age': 99}\n"
          ]
        }
      ]
    },
    {
      "cell_type": "code",
      "source": [
        "#copy\n",
        "mega1=mega.copy()\n",
        "print(mega1)"
      ],
      "metadata": {
        "colab": {
          "base_uri": "https://localhost:8080/"
        },
        "id": "b8e6JPwRedeS",
        "outputId": "c29bc6e6-63d7-4f17-aa56-6c4fdffec28a"
      },
      "execution_count": null,
      "outputs": [
        {
          "output_type": "stream",
          "name": "stdout",
          "text": [
            "{'name': 'ansar', 'email': 'leoriyas30@gamil.com', 'phone': 846273648, 'age': 99}\n"
          ]
        }
      ]
    },
    {
      "cell_type": "code",
      "source": [
        "mega.pop(\"name\")\n",
        "print(mega)"
      ],
      "metadata": {
        "colab": {
          "base_uri": "https://localhost:8080/"
        },
        "id": "ALrz7lVsfFru",
        "outputId": "2c4c22c6-8403-4ddc-dd0e-bb2ce6333776"
      },
      "execution_count": null,
      "outputs": [
        {
          "output_type": "stream",
          "name": "stdout",
          "text": [
            "{'email': 'leoriyas30@gamil.com', 'phone': 846273648, 'age': 99}\n"
          ]
        }
      ]
    },
    {
      "cell_type": "code",
      "source": [
        "del mega[\"phone\"]\n",
        "print(mega)"
      ],
      "metadata": {
        "colab": {
          "base_uri": "https://localhost:8080/"
        },
        "id": "E5UXyIFXfZ5A",
        "outputId": "fadc6c9b-e74d-4804-ab38-1b7093d15a0c"
      },
      "execution_count": null,
      "outputs": [
        {
          "output_type": "stream",
          "name": "stdout",
          "text": [
            "{'email': 'leoriyas30@gamil.com', 'age': 99}\n"
          ]
        }
      ]
    },
    {
      "cell_type": "code",
      "source": [
        "a=(\"kadmat\")\n",
        "print(a)"
      ],
      "metadata": {
        "colab": {
          "base_uri": "https://localhost:8080/"
        },
        "id": "SlzBtYwbgI_8",
        "outputId": "32c7a91e-f07e-43e7-c834-4e914b69e8db"
      },
      "execution_count": null,
      "outputs": [
        {
          "output_type": "stream",
          "name": "stdout",
          "text": [
            "kadmat\n"
          ]
        }
      ]
    },
    {
      "cell_type": "code",
      "source": [
        "a[0]\n",
        "print(a)"
      ],
      "metadata": {
        "colab": {
          "base_uri": "https://localhost:8080/"
        },
        "id": "8ps3E5j9h3Bs",
        "outputId": "e569920c-2204-4489-b755-0a5fb28d2207"
      },
      "execution_count": null,
      "outputs": [
        {
          "output_type": "stream",
          "name": "stdout",
          "text": [
            "kadmat\n"
          ]
        }
      ]
    },
    {
      "cell_type": "code",
      "source": [
        "print(a[1:5])"
      ],
      "metadata": {
        "colab": {
          "base_uri": "https://localhost:8080/"
        },
        "id": "Trqr2tfniHkC",
        "outputId": "6b28427e-2533-4f10-d45d-a3ef3219fbac"
      },
      "execution_count": null,
      "outputs": [
        {
          "output_type": "stream",
          "name": "stdout",
          "text": [
            "adma\n"
          ]
        }
      ]
    },
    {
      "cell_type": "code",
      "source": [
        "b=\"pondicherry\"\n",
        "print(b)"
      ],
      "metadata": {
        "colab": {
          "base_uri": "https://localhost:8080/"
        },
        "id": "0Wgi_rK4j5pX",
        "outputId": "67796e44-9ddd-478e-9beb-080650396ddc"
      },
      "execution_count": null,
      "outputs": [
        {
          "output_type": "stream",
          "name": "stdout",
          "text": [
            "pondicherry\n"
          ]
        }
      ]
    },
    {
      "cell_type": "code",
      "source": [
        "print(b[1:4])"
      ],
      "metadata": {
        "colab": {
          "base_uri": "https://localhost:8080/"
        },
        "id": "lds21-4UkH-M",
        "outputId": "af08a67f-47be-4303-8bce-5b87c7a9ed81"
      },
      "execution_count": null,
      "outputs": [
        {
          "output_type": "stream",
          "name": "stdout",
          "text": [
            "ond\n"
          ]
        }
      ]
    },
    {
      "cell_type": "code",
      "source": [
        "a=\"      hello     \"\n",
        "print(a)"
      ],
      "metadata": {
        "colab": {
          "base_uri": "https://localhost:8080/"
        },
        "id": "dWLuL_89kUR-",
        "outputId": "8091b03c-1522-489a-85c9-dd13b8e4dda9"
      },
      "execution_count": null,
      "outputs": [
        {
          "output_type": "stream",
          "name": "stdout",
          "text": [
            "      hello     \n"
          ]
        }
      ]
    },
    {
      "cell_type": "markdown",
      "source": [
        "#strip method\n",
        "print(a)\n",
        "print(a.strip())"
      ],
      "metadata": {
        "id": "ZKpCvBigkkXw"
      }
    },
    {
      "cell_type": "code",
      "source": [
        "a=\"GOVERMENT\"\n",
        "print(a.lower())"
      ],
      "metadata": {
        "colab": {
          "base_uri": "https://localhost:8080/"
        },
        "id": "QKpeWv7slTvh",
        "outputId": "5c9acf36-3b33-4fbb-ac07-bb8e91e9086d"
      },
      "execution_count": null,
      "outputs": [
        {
          "output_type": "stream",
          "name": "stdout",
          "text": [
            "goverment\n"
          ]
        }
      ]
    },
    {
      "cell_type": "code",
      "source": [
        "a=\"goverment\"\n",
        "print(a.upper())"
      ],
      "metadata": {
        "colab": {
          "base_uri": "https://localhost:8080/"
        },
        "id": "N7DpYAwwliti",
        "outputId": "626bf988-6d0a-4f8f-eeb8-45cdc64208f6"
      },
      "execution_count": null,
      "outputs": [
        {
          "output_type": "stream",
          "name": "stdout",
          "text": [
            "GOVERMENT\n"
          ]
        }
      ]
    },
    {
      "cell_type": "code",
      "source": [
        "b=\"THE GoGSVDdh\"\n",
        "print(b.swapcase())"
      ],
      "metadata": {
        "colab": {
          "base_uri": "https://localhost:8080/"
        },
        "id": "Q9YhMeWUmF-T",
        "outputId": "5e9e1369-748e-4a37-97d2-d633807f447a"
      },
      "execution_count": null,
      "outputs": [
        {
          "output_type": "stream",
          "name": "stdout",
          "text": [
            "the gOgsvdDH\n"
          ]
        }
      ]
    },
    {
      "cell_type": "code",
      "source": [
        "a=\"learn python\"\n",
        "print(a.replace(\"p\",\"h\"))"
      ],
      "metadata": {
        "colab": {
          "base_uri": "https://localhost:8080/"
        },
        "id": "iCqaWvqSsW9W",
        "outputId": "67e095a8-b9dc-4c9b-f2eb-5e4967ab95ab"
      },
      "execution_count": null,
      "outputs": [
        {
          "output_type": "stream",
          "name": "stdout",
          "text": [
            "learn hython\n"
          ]
        }
      ]
    },
    {
      "cell_type": "code",
      "source": [
        "a=\"hellow kochi\"\n",
        "result=a.endswith(\"kochi\")\n",
        "print(\"Ends with''kochi:\",result)"
      ],
      "metadata": {
        "colab": {
          "base_uri": "https://localhost:8080/"
        },
        "id": "CiVWy1_ZtWGH",
        "outputId": "b765ce1b-ecf4-49f4-ce56-dad9f03985d3"
      },
      "execution_count": null,
      "outputs": [
        {
          "output_type": "stream",
          "name": "stdout",
          "text": [
            "Ends with''kochi: True\n"
          ]
        }
      ]
    },
    {
      "cell_type": "code",
      "source": [
        "result=a.startswith(\"hellow\")\n",
        "print(result)"
      ],
      "metadata": {
        "colab": {
          "base_uri": "https://localhost:8080/"
        },
        "id": "KMpX-VmLt5Oc",
        "outputId": "61e33844-3e00-463f-9e76-172b086bf81c"
      },
      "execution_count": null,
      "outputs": [
        {
          "output_type": "stream",
          "name": "stdout",
          "text": [
            "True\n"
          ]
        }
      ]
    },
    {
      "cell_type": "code",
      "source": [
        "a=11\n",
        "b=23\n",
        "if b > a:\n",
        "  print(\"b is greater than a\")\n",
        "else:\n",
        "  print(\"wrong\")"
      ],
      "metadata": {
        "colab": {
          "base_uri": "https://localhost:8080/"
        },
        "id": "ZyBljAD2uY8F",
        "outputId": "57d473ec-0251-41b5-879c-fb1cd63556c1"
      },
      "execution_count": null,
      "outputs": [
        {
          "output_type": "stream",
          "name": "stdout",
          "text": [
            "b is greater than a\n"
          ]
        }
      ]
    },
    {
      "cell_type": "code",
      "source": [
        "a=int(input(\"enter a number\"))\n",
        "if a>0:\n",
        "  print(\"positive number\")\n",
        "else:\n",
        "  print(\"negative number\")"
      ],
      "metadata": {
        "colab": {
          "base_uri": "https://localhost:8080/"
        },
        "id": "iiX9M0wD3q4F",
        "outputId": "54e9a798-f646-4dcd-ff6e-c08a42402ed7"
      },
      "execution_count": null,
      "outputs": [
        {
          "output_type": "stream",
          "name": "stdout",
          "text": [
            "enter a number4\n",
            "positive number\n"
          ]
        }
      ]
    },
    {
      "cell_type": "code",
      "source": [
        "a=int(input(\"Enter a number: \"))\n",
        "if a>0:\n",
        "  print(\"Positive number\")\n",
        "elif a==0:\n",
        "  print(\"zero\")\n",
        "else:\n",
        "  print(\"Negative number\")\n"
      ],
      "metadata": {
        "colab": {
          "base_uri": "https://localhost:8080/"
        },
        "id": "4-hC44ilPfha",
        "outputId": "cae4dbc5-2812-4070-c1e3-db4c6d2e62e6"
      },
      "execution_count": null,
      "outputs": [
        {
          "output_type": "stream",
          "name": "stdout",
          "text": [
            "Enter a number: 4\n",
            "Positive number\n"
          ]
        }
      ]
    },
    {
      "cell_type": "code",
      "source": [
        "a=int(input(\"Enter age: \"))\n",
        "if a>=25:\n",
        " print(\"partcipate the election\")\n",
        "elif a>=18:\n",
        "  print(\"eligible to vote\")\n",
        "else:\n",
        "  print(\"not eligible to vote\")"
      ],
      "metadata": {
        "colab": {
          "base_uri": "https://localhost:8080/"
        },
        "id": "AmiFN5EuSUIa",
        "outputId": "d17533d4-2aaf-44d9-9f2d-68266693c293"
      },
      "execution_count": null,
      "outputs": [
        {
          "output_type": "stream",
          "name": "stdout",
          "text": [
            "Enter age: 13\n",
            "not eligible to vote\n"
          ]
        }
      ]
    },
    {
      "cell_type": "code",
      "source": [
        "a=int(input(\"Enter a number: \"))\n",
        "if a%2==0:\n",
        " print(\"even number\")\n",
        "else:\n",
        "  print(\"odd number\")"
      ],
      "metadata": {
        "colab": {
          "base_uri": "https://localhost:8080/"
        },
        "id": "xaLDdyqkVuj1",
        "outputId": "66268ffc-3005-426b-dd0c-162b32d6e197"
      },
      "execution_count": null,
      "outputs": [
        {
          "output_type": "stream",
          "name": "stdout",
          "text": [
            "Enter a number: 3\n",
            "odd number\n"
          ]
        }
      ]
    },
    {
      "cell_type": "code",
      "source": [
        "a=[\"leo\",\"rono\",\"ney\"]\n",
        "for i in a:\n",
        "  print(i)"
      ],
      "metadata": {
        "colab": {
          "base_uri": "https://localhost:8080/"
        },
        "id": "HEvMTFEXX3EH",
        "outputId": "1bf57864-d166-46a0-e3bb-5ebab7ae28bf"
      },
      "execution_count": null,
      "outputs": [
        {
          "output_type": "stream",
          "name": "stdout",
          "text": [
            "leo\n",
            "rono\n",
            "ney\n"
          ]
        }
      ]
    },
    {
      "cell_type": "code",
      "source": [
        "a={\"name\":\"riyas\",\"age\":17,\"phn no\":9188340488}\n",
        "for i,y in a.items():\n",
        "  print(i,y)"
      ],
      "metadata": {
        "colab": {
          "base_uri": "https://localhost:8080/"
        },
        "id": "Xhw5OzZeaZCv",
        "outputId": "f4155ecc-ab1e-4aab-a0a9-ed15f471c3a0"
      },
      "execution_count": null,
      "outputs": [
        {
          "output_type": "stream",
          "name": "stdout",
          "text": [
            "name riyas\n",
            "age 17\n",
            "phn no 9188340488\n"
          ]
        }
      ]
    },
    {
      "cell_type": "code",
      "source": [
        "for i in a:\n",
        "  print(dict(a))"
      ],
      "metadata": {
        "colab": {
          "base_uri": "https://localhost:8080/"
        },
        "id": "QKiLciXdcj6I",
        "outputId": "2b05a491-9b40-4641-b4a6-5c6e30d6829c"
      },
      "execution_count": null,
      "outputs": [
        {
          "output_type": "stream",
          "name": "stdout",
          "text": [
            "{'name': 'riyas', 'age': 17, 'phn no': 9188340488}\n",
            "{'name': 'riyas', 'age': 17, 'phn no': 9188340488}\n",
            "{'name': 'riyas', 'age': 17, 'phn no': 9188340488}\n"
          ]
        }
      ]
    },
    {
      "cell_type": "code",
      "source": [
        "for s in range(2,11,):\n",
        "  print(s)"
      ],
      "metadata": {
        "colab": {
          "base_uri": "https://localhost:8080/"
        },
        "id": "7V224rPUdfaF",
        "outputId": "7b0e88cc-6377-4c45-9a67-0de0d7f29852"
      },
      "execution_count": null,
      "outputs": [
        {
          "output_type": "stream",
          "name": "stdout",
          "text": [
            "2\n",
            "3\n",
            "4\n",
            "5\n",
            "6\n",
            "7\n",
            "8\n",
            "9\n",
            "10\n"
          ]
        }
      ]
    },
    {
      "cell_type": "code",
      "source": [
        "sum=0\n",
        "for s in range(10,21):\n",
        " sum=sum+s\n",
        "print(sum)\n"
      ],
      "metadata": {
        "id": "CrQC8GFif_Kh",
        "colab": {
          "base_uri": "https://localhost:8080/"
        },
        "outputId": "997341ab-6e06-4fa3-ae6f-c0537f060a42"
      },
      "execution_count": null,
      "outputs": [
        {
          "output_type": "stream",
          "name": "stdout",
          "text": [
            "165\n"
          ]
        }
      ]
    },
    {
      "cell_type": "code",
      "source": [
        "sum=0\n",
        "for s in range(11,21,2):\n",
        " sum=sum+s\n",
        "print(sum)\n"
      ],
      "metadata": {
        "colab": {
          "base_uri": "https://localhost:8080/"
        },
        "id": "2R7ui32RjUUE",
        "outputId": "b88ef843-6abb-4b81-dc37-a3f4b4ea3238"
      },
      "execution_count": null,
      "outputs": [
        {
          "output_type": "stream",
          "name": "stdout",
          "text": [
            "75\n"
          ]
        }
      ]
    },
    {
      "cell_type": "code",
      "source": [
        "a=int(input(\"Enter a number: \"))\n",
        "for s in range(0,a+1):\n",
        "  print(s)\n"
      ],
      "metadata": {
        "colab": {
          "base_uri": "https://localhost:8080/"
        },
        "id": "G9Rf1E2cled8",
        "outputId": "6c8d8c5a-9e7e-4477-a344-c615223393a8"
      },
      "execution_count": null,
      "outputs": [
        {
          "output_type": "stream",
          "name": "stdout",
          "text": [
            "Enter a number: 3\n",
            "0\n",
            "1\n",
            "2\n",
            "3\n"
          ]
        }
      ]
    },
    {
      "cell_type": "code",
      "source": [
        "a=[100,200,300,400,500]\n",
        "a.reverse()\n",
        "print(a)"
      ],
      "metadata": {
        "colab": {
          "base_uri": "https://localhost:8080/"
        },
        "id": "DCTVIyWBSLEu",
        "outputId": "0d2c866d-9e91-4775-8461-b454d22828fc"
      },
      "execution_count": null,
      "outputs": [
        {
          "output_type": "stream",
          "name": "stdout",
          "text": [
            "[500, 400, 300, 200, 100]\n"
          ]
        }
      ]
    },
    {
      "cell_type": "code",
      "source": [
        "b=[100,200,300,400,500]\n",
        "b=b[::-1]\n",
        "print(b)"
      ],
      "metadata": {
        "colab": {
          "base_uri": "https://localhost:8080/"
        },
        "id": "RB6MLg0WVAd1",
        "outputId": "cb5e476c-5cd4-4444-e16e-69b524a9546c"
      },
      "execution_count": null,
      "outputs": [
        {
          "output_type": "stream",
          "name": "stdout",
          "text": [
            "[500, 400, 300, 200, 100]\n"
          ]
        }
      ]
    },
    {
      "cell_type": "code",
      "source": [
        "num=[2,3,4,5,6]\n",
        "result=[]\n",
        "for i in num:\n",
        "    result.append(i * i)\n",
        "print(result)"
      ],
      "metadata": {
        "colab": {
          "base_uri": "https://localhost:8080/"
        },
        "id": "c1DzyfpPVXIT",
        "outputId": "d00a4ba2-6a18-490c-c59a-71b768a28d0d"
      },
      "execution_count": null,
      "outputs": [
        {
          "output_type": "stream",
          "name": "stdout",
          "text": [
            "[4, 9, 16, 25, 36]\n"
          ]
        }
      ]
    },
    {
      "cell_type": "code",
      "source": [
        "num=[1,2,3,4,5,6,]\n",
        "result=[i*i  for i in num]\n",
        "print(result)"
      ],
      "metadata": {
        "colab": {
          "base_uri": "https://localhost:8080/"
        },
        "id": "ioghf-AQYvkM",
        "outputId": "dd05595d-88c3-4274-e444-f3c65c1dda61"
      },
      "execution_count": null,
      "outputs": [
        {
          "output_type": "stream",
          "name": "stdout",
          "text": [
            "[1, 4, 9, 16, 25, 36]\n"
          ]
        }
      ]
    },
    {
      "cell_type": "code",
      "source": [
        "a=[\"hello\",\"take\"]\n",
        "b=[\"dear\",\"sir\"]\n",
        "result=[c+d for c in a for d in b]\n",
        "print(result)"
      ],
      "metadata": {
        "colab": {
          "base_uri": "https://localhost:8080/"
        },
        "id": "WNqDYh2wbhJc",
        "outputId": "e19184c2-7842-4bca-d443-7f7212a86425"
      },
      "execution_count": null,
      "outputs": [
        {
          "output_type": "stream",
          "name": "stdout",
          "text": [
            "['hellodear', 'hellosir', 'takedear', 'takesir']\n"
          ]
        }
      ]
    },
    {
      "cell_type": "code",
      "source": [
        "a=[\"lionel\",\"cristiano\"]\n",
        "b=[\"messi\",\"ronaldo\"]\n",
        "c=[x+y for x in a for y in b]\n",
        "print(c)"
      ],
      "metadata": {
        "colab": {
          "base_uri": "https://localhost:8080/"
        },
        "id": "TOq2yWhqgJon",
        "outputId": "30f18a11-1893-4ae9-a963-6922cf89fb01"
      },
      "execution_count": null,
      "outputs": [
        {
          "output_type": "stream",
          "name": "stdout",
          "text": [
            "['lionelmessi', 'lionelronaldo', 'cristianomessi', 'cristianoronaldo']\n"
          ]
        }
      ]
    },
    {
      "cell_type": "code",
      "source": [
        "a=[\"kadmat\",\"apple\",\"\",\"\",\"kiltan\",1,3]\n",
        "b=list(filter(None,a))\n",
        "print(b)"
      ],
      "metadata": {
        "colab": {
          "base_uri": "https://localhost:8080/"
        },
        "id": "0Ky5rMtjhwyn",
        "outputId": "ca24792c-2482-45ba-e5ba-6c1c3061f35a"
      },
      "execution_count": null,
      "outputs": [
        {
          "output_type": "stream",
          "name": "stdout",
          "text": [
            "['kadmat', 'apple', 'kiltan', 1, 3]\n"
          ]
        }
      ]
    },
    {
      "cell_type": "code",
      "source": [
        "a=['apple','cherry','pappaya']\n",
        "b=[1,2,3]\n",
        "c=dict(zip(a,b))\n",
        "print(c)"
      ],
      "metadata": {
        "colab": {
          "base_uri": "https://localhost:8080/"
        },
        "id": "hb5lYjvbld_6",
        "outputId": "9507580a-ffc3-46cb-cbde-eb05e3249529"
      },
      "execution_count": null,
      "outputs": [
        {
          "output_type": "stream",
          "name": "stdout",
          "text": [
            "{'apple': 1, 'cherry': 2, 'pappaya': 3}\n"
          ]
        }
      ]
    },
    {
      "cell_type": "code",
      "source": [
        "a={\n",
        "    'physics': 82,'maths':90,'botony':71\n",
        "}\n",
        "c=min(a)\n",
        "print(c)"
      ],
      "metadata": {
        "colab": {
          "base_uri": "https://localhost:8080/"
        },
        "id": "CYIfOYcGsE30",
        "outputId": "6ec1e7c6-913b-49f0-c948-7e4b9e622632"
      },
      "execution_count": null,
      "outputs": [
        {
          "output_type": "stream",
          "name": "stdout",
          "text": [
            "botony\n"
          ]
        }
      ]
    },
    {
      "cell_type": "code",
      "source": [
        "a={\n",
        "    'physics': 82,'maths':45,'botony':71\n",
        "}\n",
        "print(max(a,key=a.get))"
      ],
      "metadata": {
        "colab": {
          "base_uri": "https://localhost:8080/"
        },
        "id": "Bb13yxJ2uNPN",
        "outputId": "f6f3b1eb-5fd0-493c-9fef-15d41fec677f"
      },
      "execution_count": null,
      "outputs": [
        {
          "output_type": "stream",
          "name": "stdout",
          "text": [
            "physics\n"
          ]
        }
      ]
    },
    {
      "cell_type": "code",
      "source": [
        "a=9\n",
        "b=5\n",
        "print(a+b)"
      ],
      "metadata": {
        "colab": {
          "base_uri": "https://localhost:8080/"
        },
        "id": "VsTGoBhmuzl7",
        "outputId": "374713ca-6bd6-4c9c-ac30-c004671348b5"
      },
      "execution_count": null,
      "outputs": [
        {
          "output_type": "stream",
          "name": "stdout",
          "text": [
            "14\n"
          ]
        }
      ]
    },
    {
      "cell_type": "code",
      "source": [
        "x= 8\n",
        "x += 4\n",
        "print(x)"
      ],
      "metadata": {
        "colab": {
          "base_uri": "https://localhost:8080/"
        },
        "id": "_F_WzBaI0zIF",
        "outputId": "08200f81-2e0a-4d59-ed7d-2fef9b31837a"
      },
      "execution_count": null,
      "outputs": [
        {
          "output_type": "stream",
          "name": "stdout",
          "text": [
            "12\n"
          ]
        }
      ]
    },
    {
      "cell_type": "code",
      "source": [
        "x = 6\n",
        "x-= 5\n",
        "print(x)"
      ],
      "metadata": {
        "colab": {
          "base_uri": "https://localhost:8080/"
        },
        "id": "An27CTOW2hos",
        "outputId": "f731cb68-efef-44c4-de3f-c04fb53e15a9"
      },
      "execution_count": null,
      "outputs": [
        {
          "output_type": "stream",
          "name": "stdout",
          "text": [
            "1\n"
          ]
        }
      ]
    },
    {
      "cell_type": "code",
      "source": [
        "x=4\n",
        "y=9\n",
        "print(x!=y)"
      ],
      "metadata": {
        "colab": {
          "base_uri": "https://localhost:8080/"
        },
        "id": "QP5FeKrB25ZD",
        "outputId": "2c5ec3b0-de86-42a0-eebe-37777b2dd04a"
      },
      "execution_count": null,
      "outputs": [
        {
          "output_type": "stream",
          "name": "stdout",
          "text": [
            "True\n"
          ]
        }
      ]
    },
    {
      "cell_type": "code",
      "source": [
        "num1, num2 = 0,1\n",
        "n=int(input(\"enter a number\"))\n",
        "for i in range(n):\n",
        "  print(num1,end=\"  \")\n",
        "  result=num1+num2\n",
        "  num1=num2\n",
        "  num2=result"
      ],
      "metadata": {
        "colab": {
          "base_uri": "https://localhost:8080/"
        },
        "id": "NMD2A7zq3Dfo",
        "outputId": "8871e4a4-fedc-4d4d-a9bd-b71e8af8662a"
      },
      "execution_count": null,
      "outputs": [
        {
          "output_type": "stream",
          "name": "stdout",
          "text": [
            "enter a number6\n",
            "0  1  1  2  3  5  "
          ]
        }
      ]
    },
    {
      "cell_type": "code",
      "source": [
        "def factorial(n):\n",
        "\n",
        "    return 1 if (n==1 or n==0) else n * factorial(n - 1)\n",
        "n=int(input(\"enter a number  \"))\n",
        "print(\"Factorial of\",n,\"is\",factorial(n))"
      ],
      "metadata": {
        "colab": {
          "base_uri": "https://localhost:8080/"
        },
        "id": "5MZwffpJ67nO",
        "outputId": "47a1b4a9-3045-4aaa-ef9a-00575228953d"
      },
      "execution_count": null,
      "outputs": [
        {
          "output_type": "stream",
          "name": "stdout",
          "text": [
            "enter a number  8\n",
            "Factorial of 8 is 40320\n"
          ]
        }
      ]
    },
    {
      "cell_type": "code",
      "source": [
        "n=int(input(\"enter a number  \"))\n",
        "factorial = 1\n",
        "if n < 0:\n",
        "  print(\"no factorial\")\n",
        "elif n==0:\n",
        "  print(\"factorial is 1\")\n",
        "else:\n",
        "  for i in range (1,n+1):\n",
        "    factorial = factorial*i\n",
        "  print(\"factorial of the given number is:\",factorial)"
      ],
      "metadata": {
        "colab": {
          "base_uri": "https://localhost:8080/"
        },
        "id": "W8FTMgVzEAXn",
        "outputId": "61b9d24c-2688-489c-fdd9-3273bdb41c11"
      },
      "execution_count": null,
      "outputs": [
        {
          "output_type": "stream",
          "name": "stdout",
          "text": [
            "enter a number  4\n",
            "factorial of the given number is: 24\n"
          ]
        }
      ]
    },
    {
      "cell_type": "code",
      "source": [
        "#program to count the digits in the given number\n",
        "n=int(input(\"Enter number:\"))\n",
        "count=0\n",
        "while(n>0):\n",
        "    count=count+1\n",
        "    n=n//10\n",
        "print(\"The number of digits in the number are:\",count)"
      ],
      "metadata": {
        "id": "DneH6faGSqmg",
        "colab": {
          "base_uri": "https://localhost:8080/"
        },
        "outputId": "a1fad9db-6bc9-4319-c05e-46db5974a658"
      },
      "execution_count": null,
      "outputs": [
        {
          "output_type": "stream",
          "name": "stdout",
          "text": [
            "Enter number:456\n",
            "The number of digits in the number are: 3\n"
          ]
        }
      ]
    },
    {
      "cell_type": "code",
      "source": [
        "n=int(input(\"enter a number :\"))\n",
        "count=0\n",
        "while n>0:\n",
        "  count+=1\n",
        "  n//=10\n",
        "print(count)"
      ],
      "metadata": {
        "colab": {
          "base_uri": "https://localhost:8080/"
        },
        "id": "DVNnYgXjqa16",
        "outputId": "0ba3a2ac-186c-4818-b7d9-72a7849ea05c"
      },
      "execution_count": null,
      "outputs": [
        {
          "output_type": "stream",
          "name": "stdout",
          "text": [
            "enter a number :100\n",
            "3\n"
          ]
        }
      ]
    },
    {
      "cell_type": "code",
      "source": [
        "a=input(\"enter a name : \")\n",
        "b = {}\n",
        "for c in a:\n",
        "    if c in b:\n",
        "        b[c] += 1\n",
        "    else:\n",
        "        b[c] = 1\n",
        "print (\"Occurrence of all characters :  \"+ str(b))"
      ],
      "metadata": {
        "colab": {
          "base_uri": "https://localhost:8080/"
        },
        "id": "XD2NjOB1xtri",
        "outputId": "7b769494-255f-4af9-a153-8bee44d56ede"
      },
      "execution_count": null,
      "outputs": [
        {
          "output_type": "stream",
          "name": "stdout",
          "text": [
            "enter a name : apple\n",
            "Occurrence of all characters :{'a': 1, 'p': 2, 'l': 1, 'e': 1}\n"
          ]
        }
      ]
    },
    {
      "cell_type": "code",
      "source": [
        "#continue statement\n",
        "a=[\"apple\",\"orange\",\"banana\",\"pappaya\"]\n",
        "for i in a:\n",
        "  if i==\"banana\":\n",
        "    continue\n",
        "  print(i)"
      ],
      "metadata": {
        "colab": {
          "base_uri": "https://localhost:8080/"
        },
        "id": "tJ2GR1lv6cbM",
        "outputId": "bedbc84d-5d5e-4956-84da-c18ae09b7de3"
      },
      "execution_count": null,
      "outputs": [
        {
          "output_type": "stream",
          "name": "stdout",
          "text": [
            "apple\n",
            "orange\n",
            "pappaya\n"
          ]
        }
      ]
    },
    {
      "cell_type": "code",
      "source": [
        "#break statement\n",
        "a=[\"apple\",\"orange\",\"banana\",\"pappaya\"]\n",
        "for i in a:\n",
        "  if i==\"banana\":\n",
        "    break\n",
        "  print(i)"
      ],
      "metadata": {
        "colab": {
          "base_uri": "https://localhost:8080/"
        },
        "id": "GNo6GpEGAoP8",
        "outputId": "f34a36b8-0a88-4c66-a0be-62594bdff13f"
      },
      "execution_count": null,
      "outputs": [
        {
          "output_type": "stream",
          "name": "stdout",
          "text": [
            "apple\n",
            "orange\n"
          ]
        }
      ]
    },
    {
      "cell_type": "code",
      "source": [
        "a=[1,2,3,4,5,6,7,8,9,10]\n",
        "for i in a:\n",
        "  if i==6:\n",
        "    continue\n",
        "  print(i)"
      ],
      "metadata": {
        "colab": {
          "base_uri": "https://localhost:8080/"
        },
        "id": "lQWUSAePB1sf",
        "outputId": "35ffc0c4-76d7-4d11-9641-b3b206e122af"
      },
      "execution_count": null,
      "outputs": [
        {
          "output_type": "stream",
          "name": "stdout",
          "text": [
            "1\n",
            "2\n",
            "3\n",
            "4\n",
            "5\n",
            "7\n",
            "8\n",
            "9\n",
            "10\n"
          ]
        }
      ]
    },
    {
      "cell_type": "code",
      "source": [
        "count=0\n",
        "while count<10:\n",
        "  count+=1\n",
        "  if count==6:\n",
        "   continue\n",
        "  print(count)"
      ],
      "metadata": {
        "colab": {
          "base_uri": "https://localhost:8080/"
        },
        "id": "eFg6EHyvCWKd",
        "outputId": "9c62c437-52e9-4239-eba9-c1e405a1906a"
      },
      "execution_count": null,
      "outputs": [
        {
          "output_type": "stream",
          "name": "stdout",
          "text": [
            "1\n",
            "2\n",
            "3\n",
            "4\n",
            "5\n",
            "7\n",
            "8\n",
            "9\n",
            "10\n"
          ]
        }
      ]
    },
    {
      "cell_type": "code",
      "source": [
        "count=0\n",
        "while count<10:\n",
        "  count+=1\n",
        "  if count==6:\n",
        "   break\n",
        "  print(count)"
      ],
      "metadata": {
        "colab": {
          "base_uri": "https://localhost:8080/"
        },
        "id": "teB7Yl_GFdpQ",
        "outputId": "ffc644c7-46a9-4fea-90fc-416a67367cdf"
      },
      "execution_count": null,
      "outputs": [
        {
          "output_type": "stream",
          "name": "stdout",
          "text": [
            "1\n",
            "2\n",
            "3\n",
            "4\n",
            "5\n"
          ]
        }
      ]
    },
    {
      "cell_type": "code",
      "source": [
        "def message():\n",
        "  print(\"hai\")\n",
        "message()"
      ],
      "metadata": {
        "colab": {
          "base_uri": "https://localhost:8080/"
        },
        "id": "t3wbjguuS9pi",
        "outputId": "8bc2f2f6-412a-4d96-c9f2-fb4d19ead511"
      },
      "execution_count": null,
      "outputs": [
        {
          "output_type": "stream",
          "name": "stdout",
          "text": [
            "hai\n"
          ]
        }
      ]
    },
    {
      "cell_type": "code",
      "source": [
        "def message(name):\n",
        "  print(\"Hai \"+ name)\n",
        "message(\"pushpa\")"
      ],
      "metadata": {
        "colab": {
          "base_uri": "https://localhost:8080/"
        },
        "id": "sd0CkWzWVXxD",
        "outputId": "f9e7f120-21b3-415a-9cbd-58798886c7d2"
      },
      "execution_count": null,
      "outputs": [
        {
          "output_type": "stream",
          "name": "stdout",
          "text": [
            "Hai pushpa\n"
          ]
        }
      ]
    },
    {
      "cell_type": "code",
      "source": [
        "def addition(num1,num2):\n",
        "     print(num1+num2)\n",
        "addition(3,4)\n",
        "\n",
        "\n"
      ],
      "metadata": {
        "colab": {
          "base_uri": "https://localhost:8080/"
        },
        "id": "GEgdT4Q3WPSk",
        "outputId": "19f6452c-d87f-45ce-8950-8003777486d6"
      },
      "execution_count": null,
      "outputs": [
        {
          "output_type": "stream",
          "name": "stdout",
          "text": [
            "7\n"
          ]
        }
      ]
    },
    {
      "cell_type": "code",
      "source": [
        "def addition(num1,num2,num3):\n",
        "     print(num1+num2+num3)\n",
        "addition(3,4,3)\n"
      ],
      "metadata": {
        "colab": {
          "base_uri": "https://localhost:8080/"
        },
        "id": "JLOidsZtYMPa",
        "outputId": "0b84f624-e83c-48ac-f437-34444f21654b"
      },
      "execution_count": null,
      "outputs": [
        {
          "output_type": "stream",
          "name": "stdout",
          "text": [
            "10\n"
          ]
        }
      ]
    },
    {
      "cell_type": "code",
      "source": [
        "def square(num1):\n",
        "     print(num1*num1)\n",
        "square(4)\n"
      ],
      "metadata": {
        "colab": {
          "base_uri": "https://localhost:8080/"
        },
        "id": "WocRAKlHYkGo",
        "outputId": "ade7e2a9-cc6a-4adc-9bbb-f167e34681bd"
      },
      "execution_count": null,
      "outputs": [
        {
          "output_type": "stream",
          "name": "stdout",
          "text": [
            "16\n"
          ]
        }
      ]
    },
    {
      "cell_type": "code",
      "source": [
        "import math\n",
        "a=int(input(\"enter a number\"))\n",
        "result=math.sqrt(a)\n",
        "print(result)"
      ],
      "metadata": {
        "colab": {
          "base_uri": "https://localhost:8080/"
        },
        "id": "7bRbQhFkah9D",
        "outputId": "736a0861-f2ba-4962-e8b6-4a2ce15cc2bb"
      },
      "execution_count": null,
      "outputs": [
        {
          "output_type": "stream",
          "name": "stdout",
          "text": [
            "enter a number4\n",
            "2.0\n"
          ]
        }
      ]
    },
    {
      "cell_type": "code",
      "source": [
        "import math\n",
        "a=int(input(\"enter first number\"))\n",
        "b=int(input(\"enter the power\"))\n",
        "result=math.pow(a,b)\n",
        "print(result)"
      ],
      "metadata": {
        "colab": {
          "base_uri": "https://localhost:8080/"
        },
        "id": "jIhgu00UcHw_",
        "outputId": "c8b7ef00-96af-4348-e183-a8105f565caf"
      },
      "execution_count": null,
      "outputs": [
        {
          "output_type": "stream",
          "name": "stdout",
          "text": [
            "enter first number5\n",
            "enter the power5\n",
            "3125.0\n"
          ]
        }
      ]
    },
    {
      "cell_type": "code",
      "source": [
        "def mult():\n",
        " a=int(input(\"enter the number: \"))\n",
        " d=int(input(\"enter range number\"))\n",
        " for b in range(1,d+1):\n",
        "    result=a*b\n",
        "    print(a,\"*\",b,\"=\",result)\n",
        "mult()\n",
        "\n"
      ],
      "metadata": {
        "colab": {
          "base_uri": "https://localhost:8080/"
        },
        "id": "P9A3SA-4d_21",
        "outputId": "35a2432d-aaa3-4060-fa86-3dab28a7c7b1"
      },
      "execution_count": null,
      "outputs": [
        {
          "output_type": "stream",
          "name": "stdout",
          "text": [
            "enter the number: 5\n",
            "enter range number3\n",
            "5 * 1 = 5\n",
            "5 * 2 = 10\n",
            "5 * 3 = 15\n"
          ]
        }
      ]
    },
    {
      "cell_type": "code",
      "source": [
        "def sum(numbers):\n",
        "  total=0\n",
        "  for i in numbers:\n",
        "     total=total +i\n",
        "  return total\n",
        "print(sum([1,2,3,4]))"
      ],
      "metadata": {
        "colab": {
          "base_uri": "https://localhost:8080/"
        },
        "id": "p7PAAVGU2rfW",
        "outputId": "435f2929-3cad-4ddc-98bf-ceeb27319b42"
      },
      "execution_count": null,
      "outputs": [
        {
          "output_type": "stream",
          "name": "stdout",
          "text": [
            "10\n"
          ]
        }
      ]
    },
    {
      "cell_type": "code",
      "source": [
        "def mult(numbers):\n",
        "  total=1\n",
        "  for i in numbers:\n",
        "     total=total *i\n",
        "  return total\n",
        "print(mult([1,2,3,4]))"
      ],
      "metadata": {
        "colab": {
          "base_uri": "https://localhost:8080/"
        },
        "id": "QEV37xlt4Mxz",
        "outputId": "501c4c3c-b4c5-4b4b-e017-400806d1db65"
      },
      "execution_count": null,
      "outputs": [
        {
          "output_type": "stream",
          "name": "stdout",
          "text": [
            "24\n"
          ]
        }
      ]
    },
    {
      "cell_type": "code",
      "source": [
        "def reverse(a):\n",
        "  b=a[::-1]\n",
        "  return b\n",
        "c=\"riyas\"\n",
        "print(reverse(c))"
      ],
      "metadata": {
        "colab": {
          "base_uri": "https://localhost:8080/"
        },
        "id": "beVlFTeQ5ug6",
        "outputId": "30a4087c-956c-48f8-ec57-fb2e5fb05144"
      },
      "execution_count": null,
      "outputs": [
        {
          "output_type": "stream",
          "name": "stdout",
          "text": [
            "sayir\n"
          ]
        }
      ]
    },
    {
      "cell_type": "code",
      "source": [
        "def evennum(a):\n",
        " for i in a:\n",
        "  if i%2==0:\n",
        "    print(i)\n",
        "p=[1,2,3,4,5,6,7,8,9,10]\n",
        "evennum(p)\n"
      ],
      "metadata": {
        "colab": {
          "base_uri": "https://localhost:8080/"
        },
        "id": "kqmNnssE_2lm",
        "outputId": "62a2eef8-4569-4497-f22a-293e09e89f8e"
      },
      "execution_count": null,
      "outputs": [
        {
          "output_type": "stream",
          "name": "stdout",
          "text": [
            "2\n",
            "4\n",
            "6\n",
            "8\n",
            "10\n"
          ]
        }
      ]
    },
    {
      "cell_type": "code",
      "source": [
        "a=input(\"Enter a string :\")\n",
        "a=a.replace(\" \",\"\")\n",
        "a=a.lower()\n",
        "if a==a[::-1]:\n",
        "  print(\"the string is palindrome\")\n",
        "else:\n",
        "  print(\"the string is not palindrome\")\n",
        "\n"
      ],
      "metadata": {
        "colab": {
          "base_uri": "https://localhost:8080/"
        },
        "id": "RHQV27AMFEuu",
        "outputId": "27727baa-fd59-4963-efac-665eebc0cfcd"
      },
      "execution_count": null,
      "outputs": [
        {
          "output_type": "stream",
          "name": "stdout",
          "text": [
            "Enter a string :Mam\n",
            "the string is palindrome\n"
          ]
        }
      ]
    },
    {
      "cell_type": "code",
      "source": [
        "def add(a,b):\n",
        "    return a+b\n",
        "def sub(a,b):\n",
        "   return a-b\n",
        "def mult(a,b):\n",
        "   return a*b\n",
        "def div(a,b):\n",
        "   if b==0:\n",
        "    print(\"invalid\")\n",
        "   else:\n",
        "    return a/b\n",
        "while True:\n",
        "  print(\"select opration\")\n",
        "  print(\"1.Addition\")\n",
        "  print(\"2.subtrct\")\n",
        "  print(\"3.multiply\")\n",
        "  print(\"4.divide\")\n",
        "  print(\"5.exit\")\n",
        "  choice=input (\"enter a choice(1/2/3/4/5):\")\n",
        "  if choice=='5':\n",
        "    print(\"existing the calculator\")\n",
        "    break\n",
        "  if choice>'5':\n",
        "    print(\"invalid choice\")\n",
        "    break\n",
        "  num1=float(input(\"enter first number\"))\n",
        "  num2=float(input(\"enter second number\"))\n",
        "  if choice=='1':\n",
        "    print(\"result\",add(num1,num2))\n",
        "  elif choice=='2':\n",
        "    print(\"result\",sub(num1,num2))\n",
        "  elif choice=='3':\n",
        "    print(\"result\",mult(num1,num2))\n",
        "  elif choice=='4':\n",
        "    print(\"result\",div(num1,num2))\n",
        "  else:\n",
        "    print(\"invalid choice\")\n"
      ],
      "metadata": {
        "colab": {
          "base_uri": "https://localhost:8080/"
        },
        "id": "Suci8JgNHtt0",
        "outputId": "2b377e91-d271-438a-da7b-14f3c7e761a1"
      },
      "execution_count": null,
      "outputs": [
        {
          "output_type": "stream",
          "name": "stdout",
          "text": [
            "select opration\n",
            "1.Addition\n",
            "2.subtrct\n",
            "3.multiply\n",
            "4.divide\n",
            "5.exit\n",
            "enter a choice(1/2/3/4/5):6\n",
            "invalid choice\n"
          ]
        }
      ]
    },
    {
      "cell_type": "code",
      "source": [],
      "metadata": {
        "id": "mcY_tiw51zLx"
      },
      "execution_count": null,
      "outputs": []
    }
  ]
}